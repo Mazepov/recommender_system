{
  "cells": [
    {
      "cell_type": "markdown",
      "metadata": {
        "id": "n92MUvnqVovJ"
      },
      "source": [
        "#Бибилиотеки"
      ]
    },
    {
      "cell_type": "code",
      "execution_count": null,
      "metadata": {
        "id": "wyv7GT0jVbu0"
      },
      "outputs": [],
      "source": [
        "#Установим библиотеку для отображения изменения accuracy и loss\n",
        "!pip install livelossplot"
      ]
    },
    {
      "cell_type": "code",
      "execution_count": 2,
      "metadata": {
        "id": "RtMwkcRWVsYY"
      },
      "outputs": [],
      "source": [
        "#Загрузим необходимые библиотеки\n",
        "import pandas as pd\n",
        "import numpy as np\n",
        "import matplotlib.pyplot as plt\n",
        "from tqdm import tqdm\n",
        "\n",
        "import tensorflow as tf\n",
        "from livelossplot.tf_keras import PlotLossesCallback"
      ]
    },
    {
      "cell_type": "markdown",
      "metadata": {
        "id": "a5FEnp9dV_ng"
      },
      "source": [
        "#Подключимся к диску с данными"
      ]
    },
    {
      "cell_type": "code",
      "execution_count": 3,
      "metadata": {
        "colab": {
          "base_uri": "https://localhost:8080/"
        },
        "collapsed": true,
        "id": "4irui3opVsSX",
        "outputId": "ea851c3d-cbde-4c4d-dbb1-8f37aede1909"
      },
      "outputs": [
        {
          "output_type": "stream",
          "name": "stdout",
          "text": [
            "Mounted at /content/gdrive\n"
          ]
        }
      ],
      "source": [
        "# Если работаем через google disk\n",
        "# Подключимся к диску с данными\n",
        "from google.colab import drive\n",
        "drive.mount('/content/gdrive')"
      ]
    },
    {
      "cell_type": "code",
      "execution_count": 4,
      "metadata": {
        "id": "iej6pgnLVsPo"
      },
      "outputs": [],
      "source": [
        "#Директория с датасетом\n",
        "dir_path ='/content/gdrive/MyDrive/Final_work_3_DS/data_recommender_system'"
      ]
    },
    {
      "cell_type": "markdown",
      "metadata": {
        "id": "0pOAo4bQNoU8"
      },
      "source": [
        "\n",
        "\n",
        "---\n",
        "\n"
      ]
    },
    {
      "cell_type": "markdown",
      "metadata": {
        "id": "8C8HsUHVRzj8"
      },
      "source": [
        "##Нейронная сеть"
      ]
    },
    {
      "cell_type": "markdown",
      "metadata": {
        "id": "H8-OKfhsYKnB"
      },
      "source": [
        "Подготовка датасета"
      ]
    },
    {
      "cell_type": "code",
      "execution_count": null,
      "metadata": {
        "id": "j1OdC8y1rnYI"
      },
      "outputs": [],
      "source": [
        "#Загрузим необходимые датасеты\n",
        "df_transactions = pd.read_csv(dir_path + '/transactions.csv')\n",
        "df_products = pd.read_csv(dir_path + '/products.csv')\n",
        "\n",
        "df_counter = pd.read_csv(dir_path + '/counter_df')"
      ]
    },
    {
      "cell_type": "code",
      "execution_count": null,
      "metadata": {
        "id": "L498ptwbyJft"
      },
      "outputs": [],
      "source": [
        "#Описание user\n",
        "#[id_user, Кол-во купленных товаров, Перезаказ товаров]\n",
        "\n",
        "emb_user_df = pd.DataFrame()\n",
        "emb_user_df['user_id'] = df_transactions.user_id.unique()\n",
        "emb_user_df.index = df_transactions.user_id.unique()\n",
        "emb_user_df['prod_count'] = df_transactions.groupby('user_id').count()['reordered']\n",
        "emb_user_df['reordered_pr'] = round((df_transactions.groupby('user_id')\\\n",
        "                                     .sum()['reordered'] * 100) / df_transactions.groupby('user_id').count()['reordered'], 2)"
      ]
    },
    {
      "cell_type": "code",
      "execution_count": null,
      "metadata": {
        "id": "yWPKJ6y-0j1l"
      },
      "outputs": [],
      "source": [
        "#Описание item\n",
        "#[id_product, Сколько всего купили этот товар, \n",
        "# Процент перезаказа этого товара, Количество купленного товара конкретным user]\n",
        "\n",
        "emb_item_df = pd.DataFrame()\n",
        "emb_item_df['product_id'] = df_transactions.product_id.unique()\n",
        "emb_item_df.index = df_transactions.product_id.unique()\n",
        "emb_item_df['prod_count_total'] = df_transactions.groupby('product_id').count()['reordered']\n",
        "emb_item_df['reordered_pr_total'] = round((df_transactions.groupby('product_id')\\\n",
        "                                     .sum()['reordered'] * 100) / df_transactions.groupby('product_id').count()['reordered'], 2)"
      ]
    },
    {
      "cell_type": "code",
      "execution_count": null,
      "metadata": {
        "id": "wzzTMWln2lxm"
      },
      "outputs": [],
      "source": [
        "#Объединим все таблицы в одну train_df\n",
        "train_df = df_transactions.loc[:, ['user_id', 'product_id', 'reordered']].copy()\n",
        "train_df = train_df.merge(emb_user_df, on='user_id')\n",
        "train_df = train_df.merge(emb_item_df, on='product_id')\n",
        "train_df = train_df.merge(df_counter, on=['user_id', 'product_id'])"
      ]
    },
    {
      "cell_type": "markdown",
      "metadata": {
        "id": "9Wfc4eHVcIXj"
      },
      "source": [
        "Сохрание и загрузка итогового датасета"
      ]
    },
    {
      "cell_type": "code",
      "execution_count": null,
      "metadata": {
        "id": "MFMRBqe86syk"
      },
      "outputs": [],
      "source": [
        "# #Сохраним df\n",
        "# train_df.to_csv(dir_path + '/train_df_NN')\n",
        "\n",
        "# #Загрузить df\n",
        "# train_df = pd.read_csv(dir_path + '/train_df_NN')"
      ]
    },
    {
      "cell_type": "markdown",
      "metadata": {
        "id": "sBK-YM8P4cde"
      },
      "source": [
        "Сформируем архитектуру нс"
      ]
    },
    {
      "cell_type": "code",
      "execution_count": null,
      "metadata": {
        "id": "hlekfPHudoGm"
      },
      "outputs": [],
      "source": [
        "#Кол-во users и items\n",
        "num_users = len(pd.unique(train_df.user_id)) +1\n",
        "num_items = len(pd.unique(train_df.product_id)) +1\n",
        "\n",
        "#Создаем два входных слоя\n",
        "user_input = tf.keras.layers.Input(shape=(3,), dtype='int32', name = 'user_input')\n",
        "item_input = tf.keras.layers.Input(shape=(4,), dtype='int32', name = 'item_input')"
      ]
    },
    {
      "cell_type": "code",
      "execution_count": null,
      "metadata": {
        "id": "3MSsITHfd1cf"
      },
      "outputs": [],
      "source": [
        "#Вытягиваем и склеиваем в один слой\n",
        "user_latent = tf.keras.layers.Flatten()(user_input)\n",
        "item_latent = tf.keras.layers.Flatten()(item_input)\n",
        "\n",
        "vector = tf.keras.layers.Concatenate()([user_latent, item_latent])\n",
        "\n",
        "#Слои модели после склеивания эмбеддингов\n",
        "layer1 = tf.keras.layers.Dense(64, input_shape = (num_users+num_items, ), activation='relu')(vector)\n",
        "layer2 = tf.keras.layers.Dense(32, activation='relu')(layer1)\n",
        "layer3 = tf.keras.layers.Dense(16, activation='relu')(layer2)\n",
        "output_layer = tf.keras.layers.Dense(1, activation='sigmoid', kernel_regularizer='l2')(layer3)"
      ]
    },
    {
      "cell_type": "code",
      "execution_count": null,
      "metadata": {
        "id": "d-hD4VW1d1UA"
      },
      "outputs": [],
      "source": [
        "#Модель\n",
        "model = tf.keras.Model(inputs=[user_input, item_input], outputs=[output_layer])"
      ]
    },
    {
      "cell_type": "code",
      "execution_count": null,
      "metadata": {
        "id": "htOiMndseUAd"
      },
      "outputs": [],
      "source": [
        "# tf.keras.utils.plot_model(model, show_shapes=True)"
      ]
    },
    {
      "cell_type": "code",
      "execution_count": null,
      "metadata": {
        "colab": {
          "base_uri": "https://localhost:8080/"
        },
        "id": "jbjjHhTfeT-c",
        "outputId": "4c4dcc4e-54a7-40a1-c01a-e3aba010674d"
      },
      "outputs": [
        {
          "output_type": "stream",
          "name": "stderr",
          "text": [
            "/usr/local/lib/python3.8/dist-packages/keras/optimizers/optimizer_v2/adam.py:110: UserWarning: The `lr` argument is deprecated, use `learning_rate` instead.\n",
            "  super(Adam, self).__init__(name, **kwargs)\n"
          ]
        }
      ],
      "source": [
        "optimizer = tf.keras.optimizers.Adam(lr = 0.001)\n",
        "loss = tf.keras.losses.binary_crossentropy\n",
        "model.compile(optimizer=optimizer, loss=loss, metrics=['MSE'])"
      ]
    },
    {
      "cell_type": "markdown",
      "source": [
        "Обучим модель"
      ],
      "metadata": {
        "id": "XZwzs9vv6KTH"
      }
    },
    {
      "cell_type": "code",
      "execution_count": null,
      "metadata": {
        "id": "phwFc5fD8NI0"
      },
      "outputs": [],
      "source": [
        "y = train_df['reordered']"
      ]
    },
    {
      "cell_type": "code",
      "execution_count": null,
      "metadata": {
        "colab": {
          "base_uri": "https://localhost:8080/",
          "height": 689
        },
        "id": "VccqVDzaeT4-",
        "outputId": "c5f4d5e3-31e0-4eed-c183-956fbb7962e4"
      },
      "outputs": [
        {
          "data": {
            "image/png": "[encoded data removed]",
            "text/plain": [
              "<Figure size 864x576 with 2 Axes>"
            ]
          },
          "metadata": {
            "needs_background": "light"
          },
          "output_type": "display_data"
        },
        {
          "name": "stdout",
          "output_type": "stream",
          "text": [
            "MSE\n",
            "\tMSE              \t (min:    0.112, max:    0.143, cur:    0.112)\n",
            "Loss\n",
            "\tloss             \t (min:    0.354, max:    0.619, cur:    0.354)\n",
            "\b\b\b\b\b\b\b\b\b\b\b\b\b\b\b\b\b\b\b\b\b\b\b\b\b\b\b\b\b\b\b\b\b\b\b\b\b\b\b\b\b\b\b\b\b\b\b\b\b\b\b\b\b\b\b\b\b\b\b\b\b\b\b\b\b\b\b\b\b\b\b\b\b\b\b\b\b\b\b\b\b\b\b\b\b\r",
            "825253/825253 [==============================] - 1574s 2ms/step - loss: 0.3535 - MSE: 0.1122\n"
          ]
        },
        {
          "data": {
            "text/plain": [
              "<keras.callbacks.History at 0x7f0ac70456d0>"
            ]
          },
          "execution_count": 17,
          "metadata": {},
          "output_type": "execute_result"
        }
      ],
      "source": [
        "model.fit([train_df.loc[:, ['user_id', 'prod_count', 'reordered_pr']], \n",
        "           train_df.loc[:, ['product_id', 'prod_count_total', 'reordered_pr_total', 'count']]], \n",
        "          y, \n",
        "          epochs=5,\n",
        "          callbacks=[PlotLossesCallback()])"
      ]
    },
    {
      "cell_type": "code",
      "execution_count": null,
      "metadata": {
        "id": "R9yRLS12eTzW"
      },
      "outputs": [],
      "source": [
        "#Сохранить веса модели\n",
        "model.save_weights(dir_path + '/checkpoint_best_5epochs', save_format='tf')"
      ]
    },
    {
      "cell_type": "markdown",
      "source": [
        "Сформируем predictions"
      ],
      "metadata": {
        "id": "j2XRuJMA6M-l"
      }
    },
    {
      "cell_type": "code",
      "execution_count": null,
      "metadata": {
        "colab": {
          "base_uri": "https://localhost:8080/"
        },
        "id": "Y0WgE9trpuRx",
        "outputId": "e6041695-ca98-4024-a5d1-d11f361c184e"
      },
      "outputs": [
        {
          "output_type": "execute_result",
          "data": {
            "text/plain": [
              "<tensorflow.python.training.tracking.util.CheckpointLoadStatus at 0x7fdcfb765c70>"
            ]
          },
          "metadata": {},
          "execution_count": 13
        }
      ],
      "source": [
        "#Загрузим веса\n",
        "model.load_weights(dir_path + '/checkpoint_best_5epochs')"
      ]
    },
    {
      "cell_type": "code",
      "execution_count": null,
      "metadata": {
        "id": "M-i3HxKEZc4X"
      },
      "outputs": [],
      "source": [
        "#Сформируем датасет для prediction общий\n",
        "train_df_predict = train_df[train_df.reordered == 0]\n",
        "prediction_df = train_df_predict.copy()\n",
        "prediction_df['Prediction'] = None\n",
        "\n",
        "\n",
        "for i in tqdm(train_df_predict.user_id.unique()):\n",
        "  user_emb = train_df_predict[train_df_predict.user_id == i][['user_id', \n",
        "                                                             'prod_count',\n",
        "                                                             'reordered_pr']]\n",
        "\n",
        "  item_emb = train_df_predict[train_df_predict.user_id == i][['product_id',\n",
        "                                                              'prod_count_total',\n",
        "                                                              'reordered_pr_total',\n",
        "                                                              'count']]\n",
        "  prediction =  model.predict([user_emb, item_emb], batch_size=20, verbose=False).reshape(-1)\n",
        "  prediction_df.loc[item_emb.index, 'Prediction'] = prediction"
      ]
    },
    {
      "cell_type": "code",
      "execution_count": 22,
      "metadata": {
        "id": "mucJ1BjuciuH"
      },
      "outputs": [],
      "source": [
        "#Сохраним df total\n",
        "prediction_df.to_csv(dir_path + '/prediction_df_total.csv')"
      ]
    },
    {
      "cell_type": "markdown",
      "source": [
        "Результаты работы модели"
      ],
      "metadata": {
        "id": "Q-s7reOT6DMv"
      }
    },
    {
      "cell_type": "code",
      "execution_count": 24,
      "metadata": {
        "id": "U6Kw5dPRcirk"
      },
      "outputs": [],
      "source": [
        "#Загрузить датасет с predictions\n",
        "prediction_df_total = pd.read_csv(dir_path + '/prediction_df_total.csv')"
      ]
    },
    {
      "cell_type": "code",
      "execution_count": 26,
      "metadata": {
        "id": "58F6hQyNcioq"
      },
      "outputs": [],
      "source": [
        "#Отсортируем\n",
        "prediction_df_total = prediction_df_total.sort_values('user_id', ascending=True)[['user_id','product_id', 'Prediction']]"
      ]
    },
    {
      "cell_type": "code",
      "source": [
        "#Сформируем файл посмотрим на результат\n",
        "submission_df = pd.DataFrame()\n",
        "submission_df['user_id'] = prediction_df_total.user_id.unique()\n",
        "submission_df.index = submission_df.user_id.unique()\n",
        "submission_df['product_id'] = None"
      ],
      "metadata": {
        "id": "egsHfISptfqH"
      },
      "execution_count": 81,
      "outputs": []
    },
    {
      "cell_type": "code",
      "source": [
        "#Все уникальные продукты\n",
        "all_products = prediction_df_total.product_id.unique()"
      ],
      "metadata": {
        "id": "1b14GfCLwJcv"
      },
      "execution_count": 82,
      "outputs": []
    },
    {
      "cell_type": "code",
      "execution_count": null,
      "metadata": {
        "id": "LZQeNteu027t"
      },
      "outputs": [],
      "source": [
        "for i in tqdm(prediction_df_total.user_id.unique()):\n",
        "\n",
        "  top_pr = prediction_df_total[prediction_df_total.user_id == i][['product_id',\n",
        "                                                                  'Prediction']].sort_values('Prediction', ascending=False).head(10)\n",
        "  #Берем десять наиболее популярных товаров (по prediction)\n",
        "  if len(top_pr) == 10:\n",
        "    products = top_pr['product_id'].tolist()\n",
        "    pred = [str(x) for x in products]\n",
        "    submission_df.at[i, 'product_id'] = \" \".join(pred)\n",
        "\n",
        "  #Если товаров менее 10, возьмем рандомные товары\n",
        "  else:\n",
        "    products = top_pr['product_id'].tolist()\n",
        "\n",
        "    delta = 10 - len(top_pr)\n",
        "    p = np.random.choice(all_products, delta, replace=False).tolist()\n",
        "    products += p\n",
        "\n",
        "    pred = [str(x) for x in products]\n",
        "    submission_df.at[i, 'product_id'] = \" \".join(pred)"
      ]
    },
    {
      "cell_type": "code",
      "source": [
        "#Сохраним результаты\n",
        "submission_df.to_csv(dir_path + '/submission.csv', sep=',', index=False)"
      ],
      "metadata": {
        "id": "Cm15RxB1w5D0"
      },
      "execution_count": 87,
      "outputs": []
    },
    {
      "cell_type": "markdown",
      "source": [
        "Результаты работы модели с кодировкой признаков (MAP@10):\n",
        "\n",
        "**Score:** 0.27304"
      ],
      "metadata": {
        "id": "0AaYT_nJ4bHD"
      }
    }
  ],
  "metadata": {
    "accelerator": "GPU",
    "colab": {
      "provenance": []
    },
    "gpuClass": "standard",
    "kernelspec": {
      "display_name": "Python 3",
      "language": "python",
      "name": "python3"
    },
    "language_info": {
      "codemirror_mode": {
        "name": "ipython",
        "version": 3
      },
      "file_extension": ".py",
      "mimetype": "text/x-python",
      "name": "python",
      "nbconvert_exporter": "python",
      "pygments_lexer": "ipython3",
      "version": "3.8.5"
    }
  },
  "nbformat": 4,
  "nbformat_minor": 0
}