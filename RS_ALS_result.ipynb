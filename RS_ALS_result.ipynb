{
  "nbformat": 4,
  "nbformat_minor": 0,
  "metadata": {
    "colab": {
      "provenance": []
    },
    "kernelspec": {
      "name": "python3",
      "display_name": "Python 3"
    },
    "language_info": {
      "name": "python"
    },
    "accelerator": "GPU",
    "gpuClass": "standard",
    "widgets": {
      "application/vnd.jupyter.widget-state+json": {
        "f654583dd0d64c04b31c621995342689": {
          "model_module": "@jupyter-widgets/controls",
          "model_name": "HBoxModel",
          "model_module_version": "1.5.0",
          "state": {
            "_dom_classes": [],
            "_model_module": "@jupyter-widgets/controls",
            "_model_module_version": "1.5.0",
            "_model_name": "HBoxModel",
            "_view_count": null,
            "_view_module": "@jupyter-widgets/controls",
            "_view_module_version": "1.5.0",
            "_view_name": "HBoxView",
            "box_style": "",
            "children": [
              "IPY_MODEL_515fc969394942919f057cfbd7c3a3cc",
              "IPY_MODEL_b2f7b98221c949d1ad1bb16d0d5aa159",
              "IPY_MODEL_42f2c5adf2114f379d4d3336c9df1d3e"
            ],
            "layout": "IPY_MODEL_1cb3fe7932424b73ac6efec2295a6346"
          }
        },
        "515fc969394942919f057cfbd7c3a3cc": {
          "model_module": "@jupyter-widgets/controls",
          "model_name": "HTMLModel",
          "model_module_version": "1.5.0",
          "state": {
            "_dom_classes": [],
            "_model_module": "@jupyter-widgets/controls",
            "_model_module_version": "1.5.0",
            "_model_name": "HTMLModel",
            "_view_count": null,
            "_view_module": "@jupyter-widgets/controls",
            "_view_module_version": "1.5.0",
            "_view_name": "HTMLView",
            "description": "",
            "description_tooltip": null,
            "layout": "IPY_MODEL_8ff1f0dc4fd14cd9abc6c6888e2d1d5a",
            "placeholder": "​",
            "style": "IPY_MODEL_0212b82dc51a49848c5bd3b36c375a39",
            "value": "100%"
          }
        },
        "b2f7b98221c949d1ad1bb16d0d5aa159": {
          "model_module": "@jupyter-widgets/controls",
          "model_name": "FloatProgressModel",
          "model_module_version": "1.5.0",
          "state": {
            "_dom_classes": [],
            "_model_module": "@jupyter-widgets/controls",
            "_model_module_version": "1.5.0",
            "_model_name": "FloatProgressModel",
            "_view_count": null,
            "_view_module": "@jupyter-widgets/controls",
            "_view_module_version": "1.5.0",
            "_view_name": "ProgressView",
            "bar_style": "success",
            "description": "",
            "description_tooltip": null,
            "layout": "IPY_MODEL_299fb56940d648c2bdb12146324c2c51",
            "max": 10,
            "min": 0,
            "orientation": "horizontal",
            "style": "IPY_MODEL_19921bba66f04ec29b62abb8709e3bc3",
            "value": 10
          }
        },
        "42f2c5adf2114f379d4d3336c9df1d3e": {
          "model_module": "@jupyter-widgets/controls",
          "model_name": "HTMLModel",
          "model_module_version": "1.5.0",
          "state": {
            "_dom_classes": [],
            "_model_module": "@jupyter-widgets/controls",
            "_model_module_version": "1.5.0",
            "_model_name": "HTMLModel",
            "_view_count": null,
            "_view_module": "@jupyter-widgets/controls",
            "_view_module_version": "1.5.0",
            "_view_name": "HTMLView",
            "description": "",
            "description_tooltip": null,
            "layout": "IPY_MODEL_b0e0eb922e904ba5acf3847b7492a84d",
            "placeholder": "​",
            "style": "IPY_MODEL_460b9f06ebcd43dd896ce4a4e50dd77d",
            "value": " 10/10 [00:03&lt;00:00,  3.19it/s]"
          }
        },
        "1cb3fe7932424b73ac6efec2295a6346": {
          "model_module": "@jupyter-widgets/base",
          "model_name": "LayoutModel",
          "model_module_version": "1.2.0",
          "state": {
            "_model_module": "@jupyter-widgets/base",
            "_model_module_version": "1.2.0",
            "_model_name": "LayoutModel",
            "_view_count": null,
            "_view_module": "@jupyter-widgets/base",
            "_view_module_version": "1.2.0",
            "_view_name": "LayoutView",
            "align_content": null,
            "align_items": null,
            "align_self": null,
            "border": null,
            "bottom": null,
            "display": null,
            "flex": null,
            "flex_flow": null,
            "grid_area": null,
            "grid_auto_columns": null,
            "grid_auto_flow": null,
            "grid_auto_rows": null,
            "grid_column": null,
            "grid_gap": null,
            "grid_row": null,
            "grid_template_areas": null,
            "grid_template_columns": null,
            "grid_template_rows": null,
            "height": null,
            "justify_content": null,
            "justify_items": null,
            "left": null,
            "margin": null,
            "max_height": null,
            "max_width": null,
            "min_height": null,
            "min_width": null,
            "object_fit": null,
            "object_position": null,
            "order": null,
            "overflow": null,
            "overflow_x": null,
            "overflow_y": null,
            "padding": null,
            "right": null,
            "top": null,
            "visibility": null,
            "width": null
          }
        },
        "8ff1f0dc4fd14cd9abc6c6888e2d1d5a": {
          "model_module": "@jupyter-widgets/base",
          "model_name": "LayoutModel",
          "model_module_version": "1.2.0",
          "state": {
            "_model_module": "@jupyter-widgets/base",
            "_model_module_version": "1.2.0",
            "_model_name": "LayoutModel",
            "_view_count": null,
            "_view_module": "@jupyter-widgets/base",
            "_view_module_version": "1.2.0",
            "_view_name": "LayoutView",
            "align_content": null,
            "align_items": null,
            "align_self": null,
            "border": null,
            "bottom": null,
            "display": null,
            "flex": null,
            "flex_flow": null,
            "grid_area": null,
            "grid_auto_columns": null,
            "grid_auto_flow": null,
            "grid_auto_rows": null,
            "grid_column": null,
            "grid_gap": null,
            "grid_row": null,
            "grid_template_areas": null,
            "grid_template_columns": null,
            "grid_template_rows": null,
            "height": null,
            "justify_content": null,
            "justify_items": null,
            "left": null,
            "margin": null,
            "max_height": null,
            "max_width": null,
            "min_height": null,
            "min_width": null,
            "object_fit": null,
            "object_position": null,
            "order": null,
            "overflow": null,
            "overflow_x": null,
            "overflow_y": null,
            "padding": null,
            "right": null,
            "top": null,
            "visibility": null,
            "width": null
          }
        },
        "0212b82dc51a49848c5bd3b36c375a39": {
          "model_module": "@jupyter-widgets/controls",
          "model_name": "DescriptionStyleModel",
          "model_module_version": "1.5.0",
          "state": {
            "_model_module": "@jupyter-widgets/controls",
            "_model_module_version": "1.5.0",
            "_model_name": "DescriptionStyleModel",
            "_view_count": null,
            "_view_module": "@jupyter-widgets/base",
            "_view_module_version": "1.2.0",
            "_view_name": "StyleView",
            "description_width": ""
          }
        },
        "299fb56940d648c2bdb12146324c2c51": {
          "model_module": "@jupyter-widgets/base",
          "model_name": "LayoutModel",
          "model_module_version": "1.2.0",
          "state": {
            "_model_module": "@jupyter-widgets/base",
            "_model_module_version": "1.2.0",
            "_model_name": "LayoutModel",
            "_view_count": null,
            "_view_module": "@jupyter-widgets/base",
            "_view_module_version": "1.2.0",
            "_view_name": "LayoutView",
            "align_content": null,
            "align_items": null,
            "align_self": null,
            "border": null,
            "bottom": null,
            "display": null,
            "flex": null,
            "flex_flow": null,
            "grid_area": null,
            "grid_auto_columns": null,
            "grid_auto_flow": null,
            "grid_auto_rows": null,
            "grid_column": null,
            "grid_gap": null,
            "grid_row": null,
            "grid_template_areas": null,
            "grid_template_columns": null,
            "grid_template_rows": null,
            "height": null,
            "justify_content": null,
            "justify_items": null,
            "left": null,
            "margin": null,
            "max_height": null,
            "max_width": null,
            "min_height": null,
            "min_width": null,
            "object_fit": null,
            "object_position": null,
            "order": null,
            "overflow": null,
            "overflow_x": null,
            "overflow_y": null,
            "padding": null,
            "right": null,
            "top": null,
            "visibility": null,
            "width": null
          }
        },
        "19921bba66f04ec29b62abb8709e3bc3": {
          "model_module": "@jupyter-widgets/controls",
          "model_name": "ProgressStyleModel",
          "model_module_version": "1.5.0",
          "state": {
            "_model_module": "@jupyter-widgets/controls",
            "_model_module_version": "1.5.0",
            "_model_name": "ProgressStyleModel",
            "_view_count": null,
            "_view_module": "@jupyter-widgets/base",
            "_view_module_version": "1.2.0",
            "_view_name": "StyleView",
            "bar_color": null,
            "description_width": ""
          }
        },
        "b0e0eb922e904ba5acf3847b7492a84d": {
          "model_module": "@jupyter-widgets/base",
          "model_name": "LayoutModel",
          "model_module_version": "1.2.0",
          "state": {
            "_model_module": "@jupyter-widgets/base",
            "_model_module_version": "1.2.0",
            "_model_name": "LayoutModel",
            "_view_count": null,
            "_view_module": "@jupyter-widgets/base",
            "_view_module_version": "1.2.0",
            "_view_name": "LayoutView",
            "align_content": null,
            "align_items": null,
            "align_self": null,
            "border": null,
            "bottom": null,
            "display": null,
            "flex": null,
            "flex_flow": null,
            "grid_area": null,
            "grid_auto_columns": null,
            "grid_auto_flow": null,
            "grid_auto_rows": null,
            "grid_column": null,
            "grid_gap": null,
            "grid_row": null,
            "grid_template_areas": null,
            "grid_template_columns": null,
            "grid_template_rows": null,
            "height": null,
            "justify_content": null,
            "justify_items": null,
            "left": null,
            "margin": null,
            "max_height": null,
            "max_width": null,
            "min_height": null,
            "min_width": null,
            "object_fit": null,
            "object_position": null,
            "order": null,
            "overflow": null,
            "overflow_x": null,
            "overflow_y": null,
            "padding": null,
            "right": null,
            "top": null,
            "visibility": null,
            "width": null
          }
        },
        "460b9f06ebcd43dd896ce4a4e50dd77d": {
          "model_module": "@jupyter-widgets/controls",
          "model_name": "DescriptionStyleModel",
          "model_module_version": "1.5.0",
          "state": {
            "_model_module": "@jupyter-widgets/controls",
            "_model_module_version": "1.5.0",
            "_model_name": "DescriptionStyleModel",
            "_view_count": null,
            "_view_module": "@jupyter-widgets/base",
            "_view_module_version": "1.2.0",
            "_view_name": "StyleView",
            "description_width": ""
          }
        }
      }
    }
  },
  "cells": [
    {
      "cell_type": "markdown",
      "source": [
        "#Бибилиотеки"
      ],
      "metadata": {
        "id": "n92MUvnqVovJ"
      }
    },
    {
      "cell_type": "code",
      "execution_count": null,
      "metadata": {
        "id": "wyv7GT0jVbu0"
      },
      "outputs": [],
      "source": [
        "#Установим необходимые библиотеки\n",
        "\n",
        "!pip install scikit-surprise\n",
        "\n",
        "!pip install implicit\n",
        "\n",
        "!pip install lightfm"
      ]
    },
    {
      "cell_type": "code",
      "source": [
        "#Загрузим необходимые библиотеки\n",
        "import pandas as pd\n",
        "import numpy as np\n",
        "import matplotlib.pyplot as plt\n",
        "from tqdm import tqdm\n",
        "\n",
        "import scipy.sparse as sparse\n",
        "from surprise.model_selection import train_test_split\n",
        "\n",
        "import implicit\n",
        "import pickle\n",
        "\n",
        "from lightfm import LightFM"
      ],
      "metadata": {
        "id": "RtMwkcRWVsYY"
      },
      "execution_count": null,
      "outputs": []
    },
    {
      "cell_type": "markdown",
      "source": [
        "#Подключимся к диску с данными"
      ],
      "metadata": {
        "id": "a5FEnp9dV_ng"
      }
    },
    {
      "cell_type": "code",
      "source": [
        "# Если работаем через google disk\n",
        "# Подключимся к диску с данными\n",
        "from google.colab import drive\n",
        "drive.mount('/content/gdrive')"
      ],
      "metadata": {
        "colab": {
          "base_uri": "https://localhost:8080/"
        },
        "id": "4irui3opVsSX",
        "outputId": "9052c0a9-943a-4f6f-c9df-f1241e7ea79b"
      },
      "execution_count": null,
      "outputs": [
        {
          "output_type": "stream",
          "name": "stdout",
          "text": [
            "Mounted at /content/gdrive\n"
          ]
        }
      ]
    },
    {
      "cell_type": "code",
      "source": [
        "#Директория с датасетом\n",
        "dir_path ='/content/gdrive/MyDrive/Final_work_3_DS/data_recommender_system'"
      ],
      "metadata": {
        "id": "iej6pgnLVsPo"
      },
      "execution_count": null,
      "outputs": []
    },
    {
      "cell_type": "code",
      "source": [
        "#Загрузим датасет с товарами по юзерам из директории (должен быть посчитан заранее)\n",
        "df_counter = pd.read_csv(dir_path + '/counter_df')"
      ],
      "metadata": {
        "id": "w6AWKnKzaAsl"
      },
      "execution_count": null,
      "outputs": []
    },
    {
      "cell_type": "code",
      "source": [
        "#Создадим функцию для категоризации данных\n",
        "def make_df_cat(df_c, path_df):\n",
        "  df = df_c.copy()\n",
        "\n",
        "  df['user_id'] = df['user_id'].astype('category')\n",
        "  df['product_id'] = df['product_id'].astype('category')\n",
        "  df['count'] = df['count'].astype('category')\n",
        "\n",
        "  df['user'] = df['user_id'].cat.codes\n",
        "  df['product'] = df['product_id'].cat.codes\n",
        "  df['count'] = df['count'].cat.codes\n",
        "\n",
        "  df.to_csv(path_df, index=False)"
      ],
      "metadata": {
        "id": "Q2ZHlpzigjMu"
      },
      "execution_count": null,
      "outputs": []
    },
    {
      "cell_type": "code",
      "source": [
        "make_df_cat(df_counter, dir_path + '/df_with_cat')"
      ],
      "metadata": {
        "id": "OGhMKPfsgjDx"
      },
      "execution_count": null,
      "outputs": []
    },
    {
      "cell_type": "code",
      "source": [
        "df_cat = pd.read_csv(dir_path + '/df_with_cat')"
      ],
      "metadata": {
        "id": "jaweLHpOiC5d"
      },
      "execution_count": null,
      "outputs": []
    },
    {
      "cell_type": "code",
      "source": [
        "#Создадим spare-matrix для работы с алгоритмами рекомендательных систем\n",
        "item_user_matrix = sparse.csr_matrix(\n",
        "    (df_cat['count'].astype(float),\n",
        "     (df_cat['product'], df_cat['user']))\n",
        "    )\n",
        "    \n",
        "user_item_matrix = sparse.csr_matrix(\n",
        "    (df_cat['count'].astype(float),\n",
        "     (df_cat['user'], df_cat['product']))\n",
        "    )"
      ],
      "metadata": {
        "id": "HeM8xco-irra"
      },
      "execution_count": null,
      "outputs": []
    },
    {
      "cell_type": "code",
      "source": [
        "df_cat"
      ],
      "metadata": {
        "colab": {
          "base_uri": "https://localhost:8080/",
          "height": 424
        },
        "id": "ZBxGoYVclTnG",
        "outputId": "05e1c261-1170-42af-e486-988890d8f0a8"
      },
      "execution_count": null,
      "outputs": [
        {
          "output_type": "execute_result",
          "data": {
            "text/plain": [
              "         user_id  product_id  count   user  product\n",
              "0              1         196      9      0      195\n",
              "1              1       12427      9      0    12375\n",
              "2              1       10258      8      0    10216\n",
              "3              1       25133      7      0    25032\n",
              "4              1       46149      2      0    45950\n",
              "...          ...         ...    ...    ...      ...\n",
              "9459060   206209         755      0  99999      752\n",
              "9459061   206209         890      0  99999      885\n",
              "9459062   206209        6825      0  99999     6792\n",
              "9459063   206209       44325      0  99999    44136\n",
              "9459064   206209       22920      0  99999    22827\n",
              "\n",
              "[9459065 rows x 5 columns]"
            ],
            "text/html": [
              "\n",
              "  <div id=\"df-6f444dbf-31c2-429f-8ef1-bba42c9f7650\">\n",
              "    <div class=\"colab-df-container\">\n",
              "      <div>\n",
              "<style scoped>\n",
              "    .dataframe tbody tr th:only-of-type {\n",
              "        vertical-align: middle;\n",
              "    }\n",
              "\n",
              "    .dataframe tbody tr th {\n",
              "        vertical-align: top;\n",
              "    }\n",
              "\n",
              "    .dataframe thead th {\n",
              "        text-align: right;\n",
              "    }\n",
              "</style>\n",
              "<table border=\"1\" class=\"dataframe\">\n",
              "  <thead>\n",
              "    <tr style=\"text-align: right;\">\n",
              "      <th></th>\n",
              "      <th>user_id</th>\n",
              "      <th>product_id</th>\n",
              "      <th>count</th>\n",
              "      <th>user</th>\n",
              "      <th>product</th>\n",
              "    </tr>\n",
              "  </thead>\n",
              "  <tbody>\n",
              "    <tr>\n",
              "      <th>0</th>\n",
              "      <td>1</td>\n",
              "      <td>196</td>\n",
              "      <td>9</td>\n",
              "      <td>0</td>\n",
              "      <td>195</td>\n",
              "    </tr>\n",
              "    <tr>\n",
              "      <th>1</th>\n",
              "      <td>1</td>\n",
              "      <td>12427</td>\n",
              "      <td>9</td>\n",
              "      <td>0</td>\n",
              "      <td>12375</td>\n",
              "    </tr>\n",
              "    <tr>\n",
              "      <th>2</th>\n",
              "      <td>1</td>\n",
              "      <td>10258</td>\n",
              "      <td>8</td>\n",
              "      <td>0</td>\n",
              "      <td>10216</td>\n",
              "    </tr>\n",
              "    <tr>\n",
              "      <th>3</th>\n",
              "      <td>1</td>\n",
              "      <td>25133</td>\n",
              "      <td>7</td>\n",
              "      <td>0</td>\n",
              "      <td>25032</td>\n",
              "    </tr>\n",
              "    <tr>\n",
              "      <th>4</th>\n",
              "      <td>1</td>\n",
              "      <td>46149</td>\n",
              "      <td>2</td>\n",
              "      <td>0</td>\n",
              "      <td>45950</td>\n",
              "    </tr>\n",
              "    <tr>\n",
              "      <th>...</th>\n",
              "      <td>...</td>\n",
              "      <td>...</td>\n",
              "      <td>...</td>\n",
              "      <td>...</td>\n",
              "      <td>...</td>\n",
              "    </tr>\n",
              "    <tr>\n",
              "      <th>9459060</th>\n",
              "      <td>206209</td>\n",
              "      <td>755</td>\n",
              "      <td>0</td>\n",
              "      <td>99999</td>\n",
              "      <td>752</td>\n",
              "    </tr>\n",
              "    <tr>\n",
              "      <th>9459061</th>\n",
              "      <td>206209</td>\n",
              "      <td>890</td>\n",
              "      <td>0</td>\n",
              "      <td>99999</td>\n",
              "      <td>885</td>\n",
              "    </tr>\n",
              "    <tr>\n",
              "      <th>9459062</th>\n",
              "      <td>206209</td>\n",
              "      <td>6825</td>\n",
              "      <td>0</td>\n",
              "      <td>99999</td>\n",
              "      <td>6792</td>\n",
              "    </tr>\n",
              "    <tr>\n",
              "      <th>9459063</th>\n",
              "      <td>206209</td>\n",
              "      <td>44325</td>\n",
              "      <td>0</td>\n",
              "      <td>99999</td>\n",
              "      <td>44136</td>\n",
              "    </tr>\n",
              "    <tr>\n",
              "      <th>9459064</th>\n",
              "      <td>206209</td>\n",
              "      <td>22920</td>\n",
              "      <td>0</td>\n",
              "      <td>99999</td>\n",
              "      <td>22827</td>\n",
              "    </tr>\n",
              "  </tbody>\n",
              "</table>\n",
              "<p>9459065 rows × 5 columns</p>\n",
              "</div>\n",
              "      <button class=\"colab-df-convert\" onclick=\"convertToInteractive('df-6f444dbf-31c2-429f-8ef1-bba42c9f7650')\"\n",
              "              title=\"Convert this dataframe to an interactive table.\"\n",
              "              style=\"display:none;\">\n",
              "        \n",
              "  <svg xmlns=\"http://www.w3.org/2000/svg\" height=\"24px\"viewBox=\"0 0 24 24\"\n",
              "       width=\"24px\">\n",
              "    <path d=\"M0 0h24v24H0V0z\" fill=\"none\"/>\n",
              "    <path d=\"M18.56 5.44l.94 2.06.94-2.06 2.06-.94-2.06-.94-.94-2.06-.94 2.06-2.06.94zm-11 1L8.5 8.5l.94-2.06 2.06-.94-2.06-.94L8.5 2.5l-.94 2.06-2.06.94zm10 10l.94 2.06.94-2.06 2.06-.94-2.06-.94-.94-2.06-.94 2.06-2.06.94z\"/><path d=\"M17.41 7.96l-1.37-1.37c-.4-.4-.92-.59-1.43-.59-.52 0-1.04.2-1.43.59L10.3 9.45l-7.72 7.72c-.78.78-.78 2.05 0 2.83L4 21.41c.39.39.9.59 1.41.59.51 0 1.02-.2 1.41-.59l7.78-7.78 2.81-2.81c.8-.78.8-2.07 0-2.86zM5.41 20L4 18.59l7.72-7.72 1.47 1.35L5.41 20z\"/>\n",
              "  </svg>\n",
              "      </button>\n",
              "      \n",
              "  <style>\n",
              "    .colab-df-container {\n",
              "      display:flex;\n",
              "      flex-wrap:wrap;\n",
              "      gap: 12px;\n",
              "    }\n",
              "\n",
              "    .colab-df-convert {\n",
              "      background-color: #E8F0FE;\n",
              "      border: none;\n",
              "      border-radius: 50%;\n",
              "      cursor: pointer;\n",
              "      display: none;\n",
              "      fill: #1967D2;\n",
              "      height: 32px;\n",
              "      padding: 0 0 0 0;\n",
              "      width: 32px;\n",
              "    }\n",
              "\n",
              "    .colab-df-convert:hover {\n",
              "      background-color: #E2EBFA;\n",
              "      box-shadow: 0px 1px 2px rgba(60, 64, 67, 0.3), 0px 1px 3px 1px rgba(60, 64, 67, 0.15);\n",
              "      fill: #174EA6;\n",
              "    }\n",
              "\n",
              "    [theme=dark] .colab-df-convert {\n",
              "      background-color: #3B4455;\n",
              "      fill: #D2E3FC;\n",
              "    }\n",
              "\n",
              "    [theme=dark] .colab-df-convert:hover {\n",
              "      background-color: #434B5C;\n",
              "      box-shadow: 0px 1px 3px 1px rgba(0, 0, 0, 0.15);\n",
              "      filter: drop-shadow(0px 1px 2px rgba(0, 0, 0, 0.3));\n",
              "      fill: #FFFFFF;\n",
              "    }\n",
              "  </style>\n",
              "\n",
              "      <script>\n",
              "        const buttonEl =\n",
              "          document.querySelector('#df-6f444dbf-31c2-429f-8ef1-bba42c9f7650 button.colab-df-convert');\n",
              "        buttonEl.style.display =\n",
              "          google.colab.kernel.accessAllowed ? 'block' : 'none';\n",
              "\n",
              "        async function convertToInteractive(key) {\n",
              "          const element = document.querySelector('#df-6f444dbf-31c2-429f-8ef1-bba42c9f7650');\n",
              "          const dataTable =\n",
              "            await google.colab.kernel.invokeFunction('convertToInteractive',\n",
              "                                                     [key], {});\n",
              "          if (!dataTable) return;\n",
              "\n",
              "          const docLinkHtml = 'Like what you see? Visit the ' +\n",
              "            '<a target=\"_blank\" href=https://colab.research.google.com/notebooks/data_table.ipynb>data table notebook</a>'\n",
              "            + ' to learn more about interactive tables.';\n",
              "          element.innerHTML = '';\n",
              "          dataTable['output_type'] = 'display_data';\n",
              "          await google.colab.output.renderOutput(dataTable, element);\n",
              "          const docLink = document.createElement('div');\n",
              "          docLink.innerHTML = docLinkHtml;\n",
              "          element.appendChild(docLink);\n",
              "        }\n",
              "      </script>\n",
              "    </div>\n",
              "  </div>\n",
              "  "
            ]
          },
          "metadata": {},
          "execution_count": 78
        }
      ]
    },
    {
      "cell_type": "markdown",
      "source": [
        "#ALS"
      ],
      "metadata": {
        "id": "iA1XCdd7WNyq"
      }
    },
    {
      "cell_type": "markdown",
      "source": [
        "Воспользуемся алгоритмом Alternating Least Squares (ALS) библиотеки implicit"
      ],
      "metadata": {
        "id": "7aoYQgYmi-o_"
      }
    },
    {
      "cell_type": "code",
      "source": [
        "als_model = implicit.als.AlternatingLeastSquares(factors=1000, \n",
        "                                                 regularization=0.0, \n",
        "                                                 iterations=10)"
      ],
      "metadata": {
        "id": "m0fiIu6mSPWu"
      },
      "execution_count": null,
      "outputs": []
    },
    {
      "cell_type": "code",
      "source": [
        "als_model.fit(user_item_matrix)"
      ],
      "metadata": {
        "colab": {
          "base_uri": "https://localhost:8080/",
          "height": 49,
          "referenced_widgets": [
            "f654583dd0d64c04b31c621995342689",
            "515fc969394942919f057cfbd7c3a3cc",
            "b2f7b98221c949d1ad1bb16d0d5aa159",
            "42f2c5adf2114f379d4d3336c9df1d3e",
            "1cb3fe7932424b73ac6efec2295a6346",
            "8ff1f0dc4fd14cd9abc6c6888e2d1d5a",
            "0212b82dc51a49848c5bd3b36c375a39",
            "299fb56940d648c2bdb12146324c2c51",
            "19921bba66f04ec29b62abb8709e3bc3",
            "b0e0eb922e904ba5acf3847b7492a84d",
            "460b9f06ebcd43dd896ce4a4e50dd77d"
          ]
        },
        "id": "BdK7E1nnWPWi",
        "outputId": "65151c46-0418-40fa-f254-84280342a8cb"
      },
      "execution_count": null,
      "outputs": [
        {
          "output_type": "display_data",
          "data": {
            "text/plain": [
              "  0%|          | 0/10 [00:00<?, ?it/s]"
            ],
            "application/vnd.jupyter.widget-view+json": {
              "version_major": 2,
              "version_minor": 0,
              "model_id": "f654583dd0d64c04b31c621995342689"
            }
          },
          "metadata": {}
        }
      ]
    },
    {
      "cell_type": "code",
      "source": [
        "#df для декодирования продуктов\n",
        "uncode_pr = pd.DataFrame()\n",
        "uncode_pr['product'] = df_cat['product'].unique()\n",
        "uncode_pr['product_id'] = df_cat['product_id'].unique()\n",
        "uncode_pr.index = df_cat['product'].unique()"
      ],
      "metadata": {
        "id": "DkKlKjbgvK1h"
      },
      "execution_count": null,
      "outputs": []
    },
    {
      "cell_type": "code",
      "source": [
        "#Сформируем файл посмотрим на результат\n",
        "submission_df = pd.DataFrame()\n",
        "submission_df['user_id'] = df_transact.user_id.unique()\n",
        "submission_df.index = df_cat.user.unique()\n",
        "submission_df['product_id'] = None\n",
        "\n",
        "for i in tqdm(df_cat.user.unique()):\n",
        "  prediction = als_model.recommend(i, \n",
        "                                   item_user_matrix, \n",
        "                                   N=10, \n",
        "                                   filter_already_liked_items=False, \n",
        "                                   recalculate_user=False)[0].tolist()\n",
        "  pred = []\n",
        "  for n in prediction:\n",
        "    id_pr = uncode_pr.at[n, 'product_id']\n",
        "    pred.append(id_pr)\n",
        "  pred = [str(x) for x in pred]\n",
        "  submission_df.at[i, 'product_id'] = \" \".join(pred)"
      ],
      "metadata": {
        "colab": {
          "base_uri": "https://localhost:8080/"
        },
        "id": "TGp22bbSbHq7",
        "outputId": "f495220c-2dfb-4bb4-af3b-440eaf0f511d"
      },
      "execution_count": null,
      "outputs": [
        {
          "output_type": "stream",
          "name": "stderr",
          "text": [
            "100%|██████████| 100000/100000 [03:28<00:00, 478.54it/s]\n"
          ]
        }
      ]
    },
    {
      "cell_type": "code",
      "source": [
        "#Сохраним итоговые рекомендации на диск\n",
        "submission_df.to_csv(dir_path + '/submission.csv', sep=',', index=False)"
      ],
      "metadata": {
        "id": "pPgqZuL0bHoB"
      },
      "execution_count": null,
      "outputs": []
    },
    {
      "cell_type": "markdown",
      "source": [
        "Результаты работы модели с кодировкой признаков (MAP@10):\n",
        "\n",
        "**Score: 0.10343**\n",
        "(factors=30, iterations=10)\n",
        "\n",
        "\n",
        "**Score: 0.13921**\n",
        "(factors=150, iterations=10)\n",
        "\n",
        "\n",
        "**Score: 0.14145**\n",
        "(factors=200, iterations=10)\n",
        "\n",
        "\n",
        "**Score: 0.14227**\n",
        "(factors=300, iterations=10)\n",
        "\n",
        "\n",
        "**Score: 0.14503**\n",
        "(factors=500, iterations=10)\n",
        "\n",
        "\n",
        "**Score: 0.14768**\n",
        "(factors=1000, iterations=10)\n",
        "\n",
        "\n",
        "**Score: 0.0006**\n",
        "(factors=2000, iterations=10)\n",
        "\n",
        "\n",
        "**Score: 0.0006**\n",
        "(factors=5000, iterations=10)\n",
        "\n",
        "\n",
        "**Score: 0.0006**\n",
        "(factors=10000, iterations=10)"
      ],
      "metadata": {
        "id": "RrADLrbyr4aE"
      }
    },
    {
      "cell_type": "code",
      "source": [],
      "metadata": {
        "id": "jpgVvbwcR3n1"
      },
      "execution_count": null,
      "outputs": []
    }
  ]
}