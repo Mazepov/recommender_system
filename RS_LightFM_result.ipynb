{
  "nbformat": 4,
  "nbformat_minor": 0,
  "metadata": {
    "colab": {
      "provenance": []
    },
    "kernelspec": {
      "name": "python3",
      "display_name": "Python 3"
    },
    "language_info": {
      "name": "python"
    },
    "accelerator": "GPU",
    "gpuClass": "standard"
  },
  "cells": [
    {
      "cell_type": "markdown",
      "source": [
        "#Бибилиотеки"
      ],
      "metadata": {
        "id": "n92MUvnqVovJ"
      }
    },
    {
      "cell_type": "code",
      "execution_count": null,
      "metadata": {
        "id": "wyv7GT0jVbu0"
      },
      "outputs": [],
      "source": [
        "#Установим необходимые библиотеки\n",
        "\n",
        "!pip install scikit-surprise\n",
        "\n",
        "!pip install implicit\n",
        "\n",
        "!pip install lightfm"
      ]
    },
    {
      "cell_type": "code",
      "source": [
        "#Загрузим необходимые библиотеки\n",
        "import pandas as pd\n",
        "import numpy as np\n",
        "import matplotlib.pyplot as plt\n",
        "from tqdm import tqdm\n",
        "\n",
        "import scipy.sparse as sparse\n",
        "from surprise.model_selection import train_test_split\n",
        "\n",
        "import implicit\n",
        "import pickle\n",
        "\n",
        "from lightfm import LightFM"
      ],
      "metadata": {
        "id": "RtMwkcRWVsYY"
      },
      "execution_count": null,
      "outputs": []
    },
    {
      "cell_type": "markdown",
      "source": [
        "#Подключимся к диску с данными"
      ],
      "metadata": {
        "id": "a5FEnp9dV_ng"
      }
    },
    {
      "cell_type": "code",
      "source": [
        "# Если работаем через google disk\n",
        "# Подключимся к диску с данными\n",
        "from google.colab import drive\n",
        "drive.mount('/content/gdrive')"
      ],
      "metadata": {
        "colab": {
          "base_uri": "https://localhost:8080/"
        },
        "id": "4irui3opVsSX",
        "outputId": "77fc2c2d-fae0-4828-e5bd-328e25474b27"
      },
      "execution_count": null,
      "outputs": [
        {
          "output_type": "stream",
          "name": "stdout",
          "text": [
            "Mounted at /content/gdrive\n"
          ]
        }
      ]
    },
    {
      "cell_type": "code",
      "source": [
        "#Директория с датасетом\n",
        "dir_path ='/content/gdrive/MyDrive/Final_work_3_DS/data_recommender_system'"
      ],
      "metadata": {
        "id": "iej6pgnLVsPo"
      },
      "execution_count": null,
      "outputs": []
    },
    {
      "cell_type": "markdown",
      "source": [
        "#LightFM"
      ],
      "metadata": {
        "id": "GG3bair-RvQU"
      }
    },
    {
      "cell_type": "markdown",
      "source": [
        "Воспользуемся библиотекой LightFM\n",
        "\n",
        "Библиотека требует предварительной предобработки данных датасета."
      ],
      "metadata": {
        "id": "4bwE06OVvvpG"
      }
    },
    {
      "cell_type": "markdown",
      "source": [
        "LightFM работает с рейтингами. Сформируем рейтинги каждого продукта. Самый частый продукт будет с рейтингом 1. Если несколько продуктов покупались одинаковое количество раз то и ранг у них будет одинаковый."
      ],
      "metadata": {
        "id": "3FrH36j_gDGW"
      }
    },
    {
      "cell_type": "code",
      "source": [
        "df_counter = pd.read_csv(dir_path + '/counter_df')"
      ],
      "metadata": {
        "id": "XLpaVjNDPznv"
      },
      "execution_count": null,
      "outputs": []
    },
    {
      "cell_type": "code",
      "source": [
        "#Столбец Рангов\n",
        "df_counter['rank_pr'] = None"
      ],
      "metadata": {
        "id": "FwBMkYhVgKO2"
      },
      "execution_count": null,
      "outputs": []
    },
    {
      "cell_type": "code",
      "source": [
        "#Берем значения\n",
        "df_values=df_counter[['user_id','product_id','count']].values\n",
        "\n",
        "n=1\n",
        "rank = []\n",
        "user_n = df_values[0][0]\n",
        "prod_n = df_values[0][1]\n",
        "count_n = df_values[0][2]\n",
        "rank.append(n)\n",
        "\n",
        "#Проходим по массиву и выставляем ранг\n",
        "for row in df_values[1:]:\n",
        "\n",
        "  if row[0] == user_n:\n",
        "    if row[2] == count_n:\n",
        "      rank.append(n)\n",
        "      count_n = row[2]\n",
        "    else:\n",
        "      n += 1\n",
        "      rank.append(n)\n",
        "      count_n = row[2]\n",
        "  \n",
        "  else:\n",
        "    n=1    \n",
        "\n",
        "    user_n = row[0]\n",
        "    prod_n = row[1]\n",
        "    count_n = row[2]\n",
        "    rank.append(n)\n",
        "\n",
        "\n",
        "#Добавляем список рангов в датасет\n",
        "df_counter.loc[:, 'rank_pr'] = rank"
      ],
      "metadata": {
        "id": "Edfo6USEw6f8"
      },
      "execution_count": null,
      "outputs": []
    },
    {
      "cell_type": "code",
      "source": [
        "#перевернем ранги, так как LightFM работаем с максимальным рангом\n",
        "df_counter.rank_pr = (df_counter.rank_pr.max() +1) - df_counter.rank_pr"
      ],
      "metadata": {
        "id": "uPAso0Rtynl8"
      },
      "execution_count": null,
      "outputs": []
    },
    {
      "cell_type": "code",
      "source": [
        "df_counter = df_counter.drop('count', axis = 1)"
      ],
      "metadata": {
        "id": "vKaF_OyazGGr"
      },
      "execution_count": null,
      "outputs": []
    },
    {
      "cell_type": "code",
      "source": [
        "#Создадим разряженную матрицу\n",
        "sparse_item_user = sparse.csr_matrix((df_counter['rank_pr'].astype(float),\n",
        "                                      (df_counter['product_id'], \n",
        "                                       df_counter['user_id']),))"
      ],
      "metadata": {
        "id": "MYUmoSgBzNtb"
      },
      "execution_count": null,
      "outputs": []
    },
    {
      "cell_type": "code",
      "source": [
        "sparse_user_item = sparse.csr_matrix((df_counter['rank_pr'].astype(float),\n",
        "                                      (df_counter['user_id'], \n",
        "                                       df_counter['product_id']),))"
      ],
      "metadata": {
        "id": "2y-MUmJaNCjK"
      },
      "execution_count": null,
      "outputs": []
    },
    {
      "cell_type": "code",
      "source": [
        "#Создадим модель\n",
        "model_fm = LightFM(no_components=50, loss='warp')"
      ],
      "metadata": {
        "id": "4o3VA5A9mpEy"
      },
      "execution_count": null,
      "outputs": []
    },
    {
      "cell_type": "code",
      "source": [
        "#Обучение\n",
        "model_fm.fit(sparse_user_item, epochs=100)"
      ],
      "metadata": {
        "colab": {
          "base_uri": "https://localhost:8080/"
        },
        "id": "eczHz8JOmpB9",
        "outputId": "0d858103-ba97-4971-8cd0-f1a6153bea0a"
      },
      "execution_count": null,
      "outputs": [
        {
          "output_type": "execute_result",
          "data": {
            "text/plain": [
              "<lightfm.lightfm.LightFM at 0x7f083a3ea810>"
            ]
          },
          "metadata": {},
          "execution_count": 130
        }
      ]
    },
    {
      "cell_type": "code",
      "source": [
        "#Сформируем файл и посмотрим на результат\n",
        "submission_df = pd.DataFrame()\n",
        "submission_df['user_id'] = df_transact.user_id.unique()\n",
        "submission_df.index = submission_df['user_id']\n",
        "submission_df['product_id'] = None\n",
        "\n",
        "for i in tqdm(submission_df.user_id.unique()):\n",
        "  prediction = model_fm.predict(int(i), np.arange(sparse_user_item.shape[1]))\n",
        "  top_items = np.argsort(-prediction)\n",
        "  top_items = top_items[:10].tolist()\n",
        "  prediction = [str(x) for x in top_items]\n",
        "  submission_df.at[i, 'product_id'] = \" \".join(prediction)"
      ],
      "metadata": {
        "colab": {
          "base_uri": "https://localhost:8080/"
        },
        "id": "QDJOByCi19ak",
        "outputId": "6d260370-bcfc-4656-8427-6844848c9018"
      },
      "execution_count": null,
      "outputs": [
        {
          "output_type": "stream",
          "name": "stderr",
          "text": [
            "100%|██████████| 100000/100000 [23:06<00:00, 72.15it/s]\n"
          ]
        }
      ]
    },
    {
      "cell_type": "code",
      "source": [
        "#Сохраним итоговые рекомендации на диск\n",
        "submission_df.to_csv(dir_path + '/submission.csv', sep=',', index=False)"
      ],
      "metadata": {
        "id": "dK0IP2IY2FVY"
      },
      "execution_count": null,
      "outputs": []
    },
    {
      "cell_type": "markdown",
      "source": [
        "MAP@10\n",
        "\n",
        "**Score: 0.05161** (epochs=100, no_components = 10)\n",
        "\n",
        "**Score: 0.05341** (epochs=100, no_components = 20)\n",
        "\n",
        "**Score: 0.05428** (epochs=100, no_components = 50)"
      ],
      "metadata": {
        "id": "91oW9e5tYfUI"
      }
    },
    {
      "cell_type": "code",
      "source": [],
      "metadata": {
        "id": "n0hgcF2mp37W"
      },
      "execution_count": null,
      "outputs": []
    }
  ]
}